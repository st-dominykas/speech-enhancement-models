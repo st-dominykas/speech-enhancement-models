{
 "cells": [
  {
   "cell_type": "code",
   "execution_count": null,
   "metadata": {},
   "outputs": [],
   "source": [
    "import torch\n",
    "from ray import tune, air\n",
    "from ray.air import session\n",
    "from ray.tune.search.optuna import OptunaSearch\n",
    "import gc\n",
    "from torch.autograd import Variable\n",
    "import pandas as pd\n",
    "import numpy as np\n",
    "from torch.utils.data import DataLoader\n",
    "\n",
    "from model import *\n",
    "from data import *"
   ]
  },
  {
   "cell_type": "code",
   "execution_count": null,
   "metadata": {},
   "outputs": [],
   "source": [
    "TRAIN_DATA_LABELS = \"/Corrupted_speach/labels.csv\"\n",
    "SERIALIZED_DATA_FOLDER_TRAIN = \"/serialized_train/\"\n",
    "SERIALIZED_DATA_FOLDER_TEST = \"/serialized_test/\"\n",
    "\n",
    "SAMPLE_RATE = 48000\n",
    "BATCH_SIZE = 32\n",
    "WINDOW_SIZE = 2**16"
   ]
  },
  {
   "cell_type": "code",
   "execution_count": null,
   "metadata": {},
   "outputs": [],
   "source": [
    "def train(model, criterion, optimizer, train_data_loader):\n",
    "    train_batch_counter = 0\n",
    "    loss_train = 0\n",
    "    for train_clean, train_noisy in train_data_loader:\n",
    "        model.train()\n",
    "        \n",
    "        if torch.cuda.is_available():\n",
    "            train_clean, train_noisy = train_clean.cuda(), train_noisy.cuda()\n",
    "        train_clean, train_noisy = Variable(train_clean), Variable(train_noisy)\n",
    "\n",
    "        model.zero_grad()\n",
    "\n",
    "        output = model(train_noisy.squeeze(1))\n",
    "        loss = criterion(source=train_clean.squeeze(1), estimate_source=output)\n",
    "\n",
    "        loss.backward()\n",
    "        torch.nn.utils.clip_grad_norm_(model.parameters(), 3)\n",
    "        optimizer.step()\n",
    "        loss_train += loss.item()\n",
    "        train_batch_counter += 1\n",
    "\n",
    "    # clear cache\n",
    "    gc.collect()\n",
    "    torch.cuda.empty_cache()\n",
    "\n",
    "    return model "
   ]
  },
  {
   "cell_type": "code",
   "execution_count": null,
   "metadata": {},
   "outputs": [],
   "source": [
    "def test(model, criterion, test_data_loader):\n",
    "    test_batch_counter = 0\n",
    "    loss_test = 0\n",
    "    model.eval()\n",
    "    with torch.no_grad():\n",
    "        for test_clean, test_noisy in test_data_loader:    \n",
    "            if torch.cuda.is_available():\n",
    "                test_clean, test_noisy = test_clean.cuda(), test_noisy.cuda()\n",
    "            test_clean, test_noisy = Variable(test_clean), Variable(test_noisy)\n",
    "\n",
    "            output = model(test_noisy.squeeze(1))\n",
    "            loss = criterion(source=test_clean.squeeze(1), estimate_source=output)\n",
    "\n",
    "            loss_test += loss.item()\n",
    "            test_batch_counter += 1\n",
    "\n",
    "    return loss_test/test_batch_counter"
   ]
  },
  {
   "cell_type": "code",
   "execution_count": null,
   "metadata": {},
   "outputs": [],
   "source": [
    "def objective(config):\n",
    "    model = Pytorch_DTLN(frame_len=1536, \n",
    "                         frame_hop=384, \n",
    "                         dropout=config['separation_dropout'],\n",
    "                         encoder_size=config['encoder_size'],\n",
    "                         hidden_size=int(config['encoder_size']/2),\n",
    "                         LSTM_size=4\n",
    "                         )\n",
    "    optimizer = torch.optim.Adam(model.parameters(), lr=config[\"lr\"])\n",
    "    criterion = SiSnr()\n",
    "\n",
    "    SERIALIZED_DATA_FOLDER_TRAIN = \"/serialized_train/\"\n",
    "    SERIALIZED_DATA_FOLDER_TEST = \"/serialized_test/\"\n",
    "\n",
    "    train_dataset = AudioDataset(data_path=SERIALIZED_DATA_FOLDER_TRAIN)\n",
    "    test_dataset = AudioDataset(data_path=SERIALIZED_DATA_FOLDER_TEST)\n",
    "\n",
    "    train_data_loader = DataLoader(dataset=train_dataset, batch_size=config['batch_size'], shuffle=False)\n",
    "    test_data_loader = DataLoader(dataset=test_dataset, batch_size=config['batch_size'], shuffle=False)\n",
    "\n",
    "    while True:\n",
    "        print('iteration')\n",
    "        model = train(model, criterion, optimizer, train_data_loader)  # Train the model\n",
    "        loss = test(model, criterion, test_data_loader)  # Compute test accuracy\n",
    "        session.report({\"test_loss\": loss})  # Report to Tune"
   ]
  },
  {
   "cell_type": "code",
   "execution_count": null,
   "metadata": {},
   "outputs": [],
   "source": [
    "search_space = {\"lr\": tune.choice([1e-5]), \n",
    "                \"separation_dropout\": tune.choice([0.2, 0.25, 0.3]),\n",
    "                \"encoder_size\": tune.choice([256, 512, 1024]),\n",
    "                \"batch_size\": tune.choice([8, 16, 32]),\n",
    "                \"LSTM_size\": tune.choice({2, 3, 4})}\n",
    "algo = OptunaSearch()"
   ]
  },
  {
   "cell_type": "code",
   "execution_count": null,
   "metadata": {},
   "outputs": [],
   "source": [
    "tuner = tune.Tuner(\n",
    "    objective,\n",
    "    tune_config=tune.TuneConfig(\n",
    "        metric=\"test_loss\",\n",
    "        mode=\"min\",\n",
    "        search_alg=algo,\n",
    "    ),\n",
    "    run_config=air.RunConfig(\n",
    "        stop={\"training_iteration\": 50},\n",
    "    ),\n",
    "    param_space=search_space,\n",
    ")\n",
    "results = tuner.fit()\n",
    "print(\"Best config is:\", results.get_best_result().config)"
   ]
  }
 ],
 "metadata": {
  "kernelspec": {
   "display_name": "Python 3",
   "language": "python",
   "name": "python3"
  },
  "language_info": {
   "codemirror_mode": {
    "name": "ipython",
    "version": 3
   },
   "file_extension": ".py",
   "mimetype": "text/x-python",
   "name": "python",
   "nbconvert_exporter": "python",
   "pygments_lexer": "ipython3",
   "version": "3.8.8 (tags/v3.8.8:024d805, Feb 19 2021, 13:18:16) [MSC v.1928 64 bit (AMD64)]"
  },
  "orig_nbformat": 4,
  "vscode": {
   "interpreter": {
    "hash": "10570769181f3bef521e17ca461192a1c83fd1537522c84236007b668e38ca34"
   }
  }
 },
 "nbformat": 4,
 "nbformat_minor": 2
}
